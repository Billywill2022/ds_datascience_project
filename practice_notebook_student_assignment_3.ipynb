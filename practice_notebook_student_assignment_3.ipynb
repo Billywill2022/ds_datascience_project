{
 "cells": [
  {
   "cell_type": "markdown",
   "id": "288e376d",
   "metadata": {},
   "source": [
    "# Project Title: Car Price Prediction\n"
   ]
  },
  {
   "cell_type": "markdown",
   "id": "5d9d1586-5a4d-46f8-81a5-0d9b59fe9a42",
   "metadata": {
    "jp-MarkdownHeadingCollapsed": true
   },
   "source": [
    "## Outline \n",
    "- Creating a car-price prediction project with a linear regression model \n",
    "- Performing an initial exploratory data analysis with Jupyter notebook\n",
    "- Setting up a validation framework\n",
    "- Implementing the linear regression model and other regression model \n",
    "- Performing feature engineering for the model \n",
    "- Keeping the model under control with regularization \n",
    "- Using the model to predict car prices"
   ]
  },
  {
   "cell_type": "markdown",
   "id": "8e6eea2b-3213-4bb5-b368-9f5af8de94a9",
   "metadata": {
    "jp-MarkdownHeadingCollapsed": true
   },
   "source": [
    "## Project Description\n",
    "The aim of this project is to develop a machine learning model that can accurately predict the price of a car based on various features such as make, model, mileage, year, and other relevant factors. The project will involve collecting a dataset of car listings with associated prices and features from online sources or existing databases. Data preprocessing steps will be implemented to clean and prepare the dataset for modeling, including handling missing values, encoding categorical variables, and scaling numerical features.\n",
    "\n",
    "Next, various machine learning algorithms such as linear regression, decision trees, random forests, and gradient boosting will be trained and evaluated using techniques like cross-validation and hyperparameter tuning to identify the best-performing model. Feature importance analysis will also be conducted to understand which features have the most significant impact on the predicted car prices.\n",
    "\n",
    "The developed model will be deployed into a user-friendly interface, allowing users to input car features and obtain a predicted price estimate. Additionally, the project will include documentation detailing the steps involved in data collection, preprocessing, modeling, evaluation, and deployment, making it accessible for others to understand and replicate.\n",
    "\n",
    "## Dataset Description \n",
    "\n",
    "### Dataset Url \n",
    "- https://www.kaggle.com/code/jshih7/car-price-prediction?select=data.csv\n",
    "\n",
    "\n",
    "### Attributes\n",
    "\n",
    "- make: make of a car (BMW, Toyota, and so on)\n",
    "- model: model of a car\n",
    "- year: year when the car was manufactured\n",
    "- engine_fuel_type: type of fuel the engine needs (diesel, electric, and so on)\n",
    "- engine_hp: horsepower of the engine\n",
    "- engine_cylinders: number of cylinders in the engine\n",
    "- transmission_type: type of transmission (automatic or manual)\n",
    "- driven_wheels: front, rear, all\n",
    "- number_of_doors: number of doors a car has\n",
    "- market_category: luxury, crossover, and so on\n",
    "- vehicle_size: compact, midsize, or large\n",
    "- vehicle_style: sedan or convertible\n",
    "- highway_mpg: miles per gallon (mpg) on the highway\n",
    "- city_mpg: miles per gallon in the city\n",
    "- popularity: number of times the car was mentioned in a Twitter stream\n",
    "- msrp: manufacturer’s suggested retail price\n"
   ]
  },
  {
   "cell_type": "markdown",
   "id": "881b7da3",
   "metadata": {},
   "source": [
    "## Importing Libraries\n"
   ]
  },
  {
   "cell_type": "code",
   "execution_count": 1,
   "id": "aa98da4e",
   "metadata": {},
   "outputs": [],
   "source": [
    "## loading and preprocessing data\n",
    "\n",
    "## visualization of data\n",
    "\n",
    "\n"
   ]
  },
  {
   "cell_type": "markdown",
   "id": "c8e95c90",
   "metadata": {},
   "source": [
    "## Loading Data "
   ]
  },
  {
   "cell_type": "code",
   "execution_count": null,
   "id": "c0980f96",
   "metadata": {},
   "outputs": [],
   "source": [
    "## loading dataset\n",
    "\n",
    "import pandas as pd\n",
    "import numpy as np\n",
    "import matplotlib.pyplot as plt\n",
    "import seaborn as sns\n",
    "\n",
    "## create a copy \n"
   ]
  },
  {
   "cell_type": "markdown",
   "id": "63fc6403-837a-4e55-947c-fad0e3559169",
   "metadata": {},
   "source": [
    "## Data Preview And Understanding\n",
    "- Loading the dataset"
   ]
  },
  {
   "cell_type": "code",
   "execution_count": 3,
   "id": "08b54184-eb80-4710-8ed0-784b1d79c1d8",
   "metadata": {},
   "outputs": [],
   "source": [
    "## view the first rows \n"
   ]
  },
  {
   "cell_type": "code",
   "execution_count": 4,
   "id": "db0cb8ee-f7d8-4a53-b51f-fbda2baeaa98",
   "metadata": {},
   "outputs": [],
   "source": [
    "## view the last five rows \n"
   ]
  },
  {
   "cell_type": "code",
   "execution_count": 5,
   "id": "befb50c0-bc00-43da-810f-6302ebd0e771",
   "metadata": {},
   "outputs": [],
   "source": [
    "## check the number of rows and columns \n"
   ]
  },
  {
   "cell_type": "code",
   "execution_count": 6,
   "id": "36767cf6-a5af-4373-a87a-d8fd0f857602",
   "metadata": {},
   "outputs": [],
   "source": [
    "## get a summary description of the data\n"
   ]
  },
  {
   "cell_type": "code",
   "execution_count": 7,
   "id": "6d449315-e96e-4d59-a081-9ada29880800",
   "metadata": {},
   "outputs": [],
   "source": [
    "## checking for missing values\n"
   ]
  },
  {
   "cell_type": "code",
   "execution_count": 8,
   "id": "aedbcf0d-f491-4b50-8bf8-32feca2dd056",
   "metadata": {},
   "outputs": [],
   "source": [
    "## checking for duplicated values \n"
   ]
  },
  {
   "cell_type": "code",
   "execution_count": 9,
   "id": "8687075f-5dde-4dcf-a378-a9e76a137f6a",
   "metadata": {},
   "outputs": [],
   "source": [
    "## checking type on columns\n"
   ]
  },
  {
   "cell_type": "code",
   "execution_count": 10,
   "id": "5fbe630b",
   "metadata": {},
   "outputs": [],
   "source": [
    "## lets return the total counts of unique values in each column \n"
   ]
  },
  {
   "cell_type": "code",
   "execution_count": 11,
   "id": "ce3cf782-0f1f-43bf-b9f0-dc0abb7bdcad",
   "metadata": {},
   "outputs": [],
   "source": [
    "## finding unique instances in each column \n",
    "\n"
   ]
  },
  {
   "cell_type": "code",
   "execution_count": 12,
   "id": "14bf5717-5b4c-4315-bbc0-2d7fecafe687",
   "metadata": {},
   "outputs": [],
   "source": [
    "## finding unique instances in each column \n"
   ]
  },
  {
   "cell_type": "code",
   "execution_count": 13,
   "id": "31ac8f7f-8405-4d5d-b99c-dfacb0fe2c23",
   "metadata": {},
   "outputs": [],
   "source": [
    "## finding unique instances in each column \n",
    "\n",
    "## usually the output can determine if you dealing with a category with unique instances or not"
   ]
  },
  {
   "cell_type": "code",
   "execution_count": 14,
   "id": "7366707f",
   "metadata": {},
   "outputs": [],
   "source": [
    "# ## finding unique instances in each column \n"
   ]
  },
  {
   "cell_type": "code",
   "execution_count": 15,
   "id": "141c2a87",
   "metadata": {},
   "outputs": [],
   "source": [
    "## finding unique instances in each column \n"
   ]
  },
  {
   "cell_type": "markdown",
   "id": "ba98e383-02c9-48cb-b7ff-1f00973e3db2",
   "metadata": {},
   "source": [
    "## Data preprocessing \n",
    "- replacing unsual characters with NaN values\n",
    "- Drop the Id column\n",
    "- Normalizing column names\n",
    "- Filling of missing "
   ]
  },
  {
   "cell_type": "code",
   "execution_count": 16,
   "id": "624a50bd-19d6-4d34-86d1-72771749230e",
   "metadata": {},
   "outputs": [],
   "source": [
    "##change column names to lower case and replace spaces with underscore\n"
   ]
  },
  {
   "cell_type": "code",
   "execution_count": null,
   "id": "640199ce-8a27-400f-8549-338b2fd0b24b",
   "metadata": {},
   "outputs": [],
   "source": []
  },
  {
   "cell_type": "code",
   "execution_count": 17,
   "id": "9ecfdb14",
   "metadata": {},
   "outputs": [],
   "source": [
    "## lets fill in col for engine_hp \n",
    "\n"
   ]
  },
  {
   "cell_type": "code",
   "execution_count": 18,
   "id": "00a5f58d",
   "metadata": {},
   "outputs": [],
   "source": [
    "## lets fill in col for engine_cylinders \n"
   ]
  },
  {
   "cell_type": "markdown",
   "id": "005c219a",
   "metadata": {},
   "source": [
    "## Descriptive Analysis\n",
    "- statistical summary"
   ]
  },
  {
   "cell_type": "code",
   "execution_count": null,
   "id": "5ad41600",
   "metadata": {},
   "outputs": [],
   "source": []
  },
  {
   "cell_type": "markdown",
   "id": "4902bdda-e2ac-4fe5-b6be-18a850eadaca",
   "metadata": {},
   "source": [
    "## Exploratory Data Analysis\n",
    "- Target variable analysis\n",
    "- Plot a coorelation againts the target variable\n",
    "- Outlier analysis"
   ]
  },
  {
   "cell_type": "code",
   "execution_count": null,
   "id": "a809d340-30ec-4e9b-a581-0a60f417d1ca",
   "metadata": {},
   "outputs": [],
   "source": [
    "\n"
   ]
  },
  {
   "cell_type": "code",
   "execution_count": 19,
   "id": "1053bf76-7e6b-4d4c-a74e-0f4ef00d2574",
   "metadata": {},
   "outputs": [],
   "source": [
    "## log transformation \n"
   ]
  },
  {
   "cell_type": "code",
   "execution_count": null,
   "id": "7d61f029-de9d-4796-9c89-fc95cd5da908",
   "metadata": {
    "scrolled": true
   },
   "outputs": [],
   "source": [
    "\n"
   ]
  },
  {
   "cell_type": "code",
   "execution_count": 20,
   "id": "b12a8a13-fc01-4e77-be46-4fc2d6c53c70",
   "metadata": {},
   "outputs": [],
   "source": [
    "## performing a coorelation on numerical column\n",
    "## select numerical ..\n"
   ]
  },
  {
   "cell_type": "code",
   "execution_count": 21,
   "id": "ffa20780-46f8-4dfc-a959-c9c685954209",
   "metadata": {},
   "outputs": [],
   "source": [
    "## \n"
   ]
  }
 ],
 "metadata": {
  "kernelspec": {
   "display_name": "Python 3 (ipykernel)",
   "language": "python",
   "name": "python3"
  },
  "language_info": {
   "codemirror_mode": {
    "name": "ipython",
    "version": 3
   },
   "file_extension": ".py",
   "mimetype": "text/x-python",
   "name": "python",
   "nbconvert_exporter": "python",
   "pygments_lexer": "ipython3",
   "version": "3.13.0"
  }
 },
 "nbformat": 4,
 "nbformat_minor": 5
}
