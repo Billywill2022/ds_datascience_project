{
 "cells": [
  {
   "cell_type": "markdown",
   "id": "288e376d",
   "metadata": {},
   "source": [
    "# Project Title: Car Price Prediction\n"
   ]
  },
  {
   "cell_type": "markdown",
   "id": "5d9d1586-5a4d-46f8-81a5-0d9b59fe9a42",
   "metadata": {
    "jp-MarkdownHeadingCollapsed": true
   },
   "source": [
    "## Outline \n",
    "- Creating a car-price prediction project with a linear regression model \n",
    "- Performing an initial exploratory data analysis with Jupyter notebook\n",
    "- Setting up a validation framework\n",
    "- Implementing the linear regression model and other regression model \n",
    "- Performing feature engineering for the model \n",
    "- Keeping the model under control with regularization \n",
    "- Using the model to predict car prices"
   ]
  },
  {
   "cell_type": "markdown",
   "id": "8e6eea2b-3213-4bb5-b368-9f5af8de94a9",
   "metadata": {
    "jp-MarkdownHeadingCollapsed": true
   },
   "source": [
    "## Project Description\n",
    "The aim of this project is to develop a machine learning model that can accurately predict the price of a car based on various features such as make, model, mileage, year, and other relevant factors. The project will involve collecting a dataset of car listings with associated prices and features from online sources or existing databases. Data preprocessing steps will be implemented to clean and prepare the dataset for modeling, including handling missing values, encoding categorical variables, and scaling numerical features.\n",
    "\n",
    "Next, various machine learning algorithms such as linear regression, decision trees, random forests, and gradient boosting will be trained and evaluated using techniques like cross-validation and hyperparameter tuning to identify the best-performing model. Feature importance analysis will also be conducted to understand which features have the most significant impact on the predicted car prices.\n",
    "\n",
    "The developed model will be deployed into a user-friendly interface, allowing users to input car features and obtain a predicted price estimate. Additionally, the project will include documentation detailing the steps involved in data collection, preprocessing, modeling, evaluation, and deployment, making it accessible for others to understand and replicate.\n",
    "\n",
    "## Dataset Description \n",
    "\n",
    "### Dataset Url \n",
    "- https://www.kaggle.com/code/jshih7/car-price-prediction?select=data.csv\n",
    "\n",
    "\n",
    "### Attributes\n",
    "\n",
    "- make: make of a car (BMW, Toyota, and so on)\n",
    "- model: model of a car\n",
    "- year: year when the car was manufactured\n",
    "- engine_fuel_type: type of fuel the engine needs (diesel, electric, and so on)\n",
    "- engine_hp: horsepower of the engine\n",
    "- engine_cylinders: number of cylinders in the engine\n",
    "- transmission_type: type of transmission (automatic or manual)\n",
    "- driven_wheels: front, rear, all\n",
    "- number_of_doors: number of doors a car has\n",
    "- market_category: luxury, crossover, and so on\n",
    "- vehicle_size: compact, midsize, or large\n",
    "- vehicle_style: sedan or convertible\n",
    "- highway_mpg: miles per gallon (mpg) on the highway\n",
    "- city_mpg: miles per gallon in the city\n",
    "- popularity: number of times the car was mentioned in a Twitter stream\n",
    "- msrp: manufacturer’s suggested retail price\n"
   ]
  },
  {
   "cell_type": "markdown",
   "id": "881b7da3",
   "metadata": {},
   "source": [
    "## Importing Libraries\n"
   ]
  },
  {
   "cell_type": "code",
   "execution_count": 10,
   "id": "aa98da4e",
   "metadata": {},
   "outputs": [],
   "source": [
    "## loading and preprocessing data\n",
    "import pandas as pd \n",
    "import numpy as np \n",
    "\n",
    "## visualization of data\n",
    "import matplotlib.pyplot as plt \n",
    "import seaborn as sns \n",
    "\n",
    "## building validation framework \n",
    "from sklearn.model_selection import train_test_split \n",
    "\n",
    "## categorical encoding \n",
    "from sklearn.feature_extraction import DictVectorizer\n",
    "\n",
    "## regression model \n",
    "from sklearn.linear_model import LinearRegression\n",
    "from sklearn.tree import DecisionTreeRegressor\n",
    "\n",
    "## metrics \n",
    "from sklearn.metrics import root_mean_squared_error"
   ]
  },
  {
   "cell_type": "markdown",
   "id": "c8e95c90",
   "metadata": {},
   "source": [
    "## Loading Data "
   ]
  },
  {
   "cell_type": "code",
   "execution_count": 11,
   "id": "c0980f96",
   "metadata": {},
   "outputs": [
    {
     "ename": "FileNotFoundError",
     "evalue": "[Errno 2] No such file or directory: 'Datasets/car_price_datatset.csv'",
     "output_type": "error",
     "traceback": [
      "\u001b[1;31m---------------------------------------------------------------------------\u001b[0m",
      "\u001b[1;31mFileNotFoundError\u001b[0m                         Traceback (most recent call last)",
      "Cell \u001b[1;32mIn[11], line 2\u001b[0m\n\u001b[0;32m      1\u001b[0m \u001b[38;5;66;03m## loading dataset\u001b[39;00m\n\u001b[1;32m----> 2\u001b[0m data \u001b[38;5;241m=\u001b[39m \u001b[43mpd\u001b[49m\u001b[38;5;241;43m.\u001b[39;49m\u001b[43mread_csv\u001b[49m\u001b[43m(\u001b[49m\u001b[38;5;124;43m\"\u001b[39;49m\u001b[38;5;124;43mDatasets/car_price_datatset.csv\u001b[39;49m\u001b[38;5;124;43m\"\u001b[39;49m\u001b[43m)\u001b[49m\n\u001b[0;32m      4\u001b[0m \u001b[38;5;66;03m## create a copy \u001b[39;00m\n\u001b[0;32m      5\u001b[0m df \u001b[38;5;241m=\u001b[39m data\u001b[38;5;241m.\u001b[39mcopy()\n",
      "File \u001b[1;32m~\\.virtualenvs\\gdap_cc_project-8yEUqJLh\\Lib\\site-packages\\pandas\\io\\parsers\\readers.py:1026\u001b[0m, in \u001b[0;36mread_csv\u001b[1;34m(filepath_or_buffer, sep, delimiter, header, names, index_col, usecols, dtype, engine, converters, true_values, false_values, skipinitialspace, skiprows, skipfooter, nrows, na_values, keep_default_na, na_filter, verbose, skip_blank_lines, parse_dates, infer_datetime_format, keep_date_col, date_parser, date_format, dayfirst, cache_dates, iterator, chunksize, compression, thousands, decimal, lineterminator, quotechar, quoting, doublequote, escapechar, comment, encoding, encoding_errors, dialect, on_bad_lines, delim_whitespace, low_memory, memory_map, float_precision, storage_options, dtype_backend)\u001b[0m\n\u001b[0;32m   1013\u001b[0m kwds_defaults \u001b[38;5;241m=\u001b[39m _refine_defaults_read(\n\u001b[0;32m   1014\u001b[0m     dialect,\n\u001b[0;32m   1015\u001b[0m     delimiter,\n\u001b[1;32m   (...)\u001b[0m\n\u001b[0;32m   1022\u001b[0m     dtype_backend\u001b[38;5;241m=\u001b[39mdtype_backend,\n\u001b[0;32m   1023\u001b[0m )\n\u001b[0;32m   1024\u001b[0m kwds\u001b[38;5;241m.\u001b[39mupdate(kwds_defaults)\n\u001b[1;32m-> 1026\u001b[0m \u001b[38;5;28;01mreturn\u001b[39;00m \u001b[43m_read\u001b[49m\u001b[43m(\u001b[49m\u001b[43mfilepath_or_buffer\u001b[49m\u001b[43m,\u001b[49m\u001b[43m \u001b[49m\u001b[43mkwds\u001b[49m\u001b[43m)\u001b[49m\n",
      "File \u001b[1;32m~\\.virtualenvs\\gdap_cc_project-8yEUqJLh\\Lib\\site-packages\\pandas\\io\\parsers\\readers.py:620\u001b[0m, in \u001b[0;36m_read\u001b[1;34m(filepath_or_buffer, kwds)\u001b[0m\n\u001b[0;32m    617\u001b[0m _validate_names(kwds\u001b[38;5;241m.\u001b[39mget(\u001b[38;5;124m\"\u001b[39m\u001b[38;5;124mnames\u001b[39m\u001b[38;5;124m\"\u001b[39m, \u001b[38;5;28;01mNone\u001b[39;00m))\n\u001b[0;32m    619\u001b[0m \u001b[38;5;66;03m# Create the parser.\u001b[39;00m\n\u001b[1;32m--> 620\u001b[0m parser \u001b[38;5;241m=\u001b[39m \u001b[43mTextFileReader\u001b[49m\u001b[43m(\u001b[49m\u001b[43mfilepath_or_buffer\u001b[49m\u001b[43m,\u001b[49m\u001b[43m \u001b[49m\u001b[38;5;241;43m*\u001b[39;49m\u001b[38;5;241;43m*\u001b[39;49m\u001b[43mkwds\u001b[49m\u001b[43m)\u001b[49m\n\u001b[0;32m    622\u001b[0m \u001b[38;5;28;01mif\u001b[39;00m chunksize \u001b[38;5;129;01mor\u001b[39;00m iterator:\n\u001b[0;32m    623\u001b[0m     \u001b[38;5;28;01mreturn\u001b[39;00m parser\n",
      "File \u001b[1;32m~\\.virtualenvs\\gdap_cc_project-8yEUqJLh\\Lib\\site-packages\\pandas\\io\\parsers\\readers.py:1620\u001b[0m, in \u001b[0;36mTextFileReader.__init__\u001b[1;34m(self, f, engine, **kwds)\u001b[0m\n\u001b[0;32m   1617\u001b[0m     \u001b[38;5;28mself\u001b[39m\u001b[38;5;241m.\u001b[39moptions[\u001b[38;5;124m\"\u001b[39m\u001b[38;5;124mhas_index_names\u001b[39m\u001b[38;5;124m\"\u001b[39m] \u001b[38;5;241m=\u001b[39m kwds[\u001b[38;5;124m\"\u001b[39m\u001b[38;5;124mhas_index_names\u001b[39m\u001b[38;5;124m\"\u001b[39m]\n\u001b[0;32m   1619\u001b[0m \u001b[38;5;28mself\u001b[39m\u001b[38;5;241m.\u001b[39mhandles: IOHandles \u001b[38;5;241m|\u001b[39m \u001b[38;5;28;01mNone\u001b[39;00m \u001b[38;5;241m=\u001b[39m \u001b[38;5;28;01mNone\u001b[39;00m\n\u001b[1;32m-> 1620\u001b[0m \u001b[38;5;28mself\u001b[39m\u001b[38;5;241m.\u001b[39m_engine \u001b[38;5;241m=\u001b[39m \u001b[38;5;28;43mself\u001b[39;49m\u001b[38;5;241;43m.\u001b[39;49m\u001b[43m_make_engine\u001b[49m\u001b[43m(\u001b[49m\u001b[43mf\u001b[49m\u001b[43m,\u001b[49m\u001b[43m \u001b[49m\u001b[38;5;28;43mself\u001b[39;49m\u001b[38;5;241;43m.\u001b[39;49m\u001b[43mengine\u001b[49m\u001b[43m)\u001b[49m\n",
      "File \u001b[1;32m~\\.virtualenvs\\gdap_cc_project-8yEUqJLh\\Lib\\site-packages\\pandas\\io\\parsers\\readers.py:1880\u001b[0m, in \u001b[0;36mTextFileReader._make_engine\u001b[1;34m(self, f, engine)\u001b[0m\n\u001b[0;32m   1878\u001b[0m     \u001b[38;5;28;01mif\u001b[39;00m \u001b[38;5;124m\"\u001b[39m\u001b[38;5;124mb\u001b[39m\u001b[38;5;124m\"\u001b[39m \u001b[38;5;129;01mnot\u001b[39;00m \u001b[38;5;129;01min\u001b[39;00m mode:\n\u001b[0;32m   1879\u001b[0m         mode \u001b[38;5;241m+\u001b[39m\u001b[38;5;241m=\u001b[39m \u001b[38;5;124m\"\u001b[39m\u001b[38;5;124mb\u001b[39m\u001b[38;5;124m\"\u001b[39m\n\u001b[1;32m-> 1880\u001b[0m \u001b[38;5;28mself\u001b[39m\u001b[38;5;241m.\u001b[39mhandles \u001b[38;5;241m=\u001b[39m \u001b[43mget_handle\u001b[49m\u001b[43m(\u001b[49m\n\u001b[0;32m   1881\u001b[0m \u001b[43m    \u001b[49m\u001b[43mf\u001b[49m\u001b[43m,\u001b[49m\n\u001b[0;32m   1882\u001b[0m \u001b[43m    \u001b[49m\u001b[43mmode\u001b[49m\u001b[43m,\u001b[49m\n\u001b[0;32m   1883\u001b[0m \u001b[43m    \u001b[49m\u001b[43mencoding\u001b[49m\u001b[38;5;241;43m=\u001b[39;49m\u001b[38;5;28;43mself\u001b[39;49m\u001b[38;5;241;43m.\u001b[39;49m\u001b[43moptions\u001b[49m\u001b[38;5;241;43m.\u001b[39;49m\u001b[43mget\u001b[49m\u001b[43m(\u001b[49m\u001b[38;5;124;43m\"\u001b[39;49m\u001b[38;5;124;43mencoding\u001b[39;49m\u001b[38;5;124;43m\"\u001b[39;49m\u001b[43m,\u001b[49m\u001b[43m \u001b[49m\u001b[38;5;28;43;01mNone\u001b[39;49;00m\u001b[43m)\u001b[49m\u001b[43m,\u001b[49m\n\u001b[0;32m   1884\u001b[0m \u001b[43m    \u001b[49m\u001b[43mcompression\u001b[49m\u001b[38;5;241;43m=\u001b[39;49m\u001b[38;5;28;43mself\u001b[39;49m\u001b[38;5;241;43m.\u001b[39;49m\u001b[43moptions\u001b[49m\u001b[38;5;241;43m.\u001b[39;49m\u001b[43mget\u001b[49m\u001b[43m(\u001b[49m\u001b[38;5;124;43m\"\u001b[39;49m\u001b[38;5;124;43mcompression\u001b[39;49m\u001b[38;5;124;43m\"\u001b[39;49m\u001b[43m,\u001b[49m\u001b[43m \u001b[49m\u001b[38;5;28;43;01mNone\u001b[39;49;00m\u001b[43m)\u001b[49m\u001b[43m,\u001b[49m\n\u001b[0;32m   1885\u001b[0m \u001b[43m    \u001b[49m\u001b[43mmemory_map\u001b[49m\u001b[38;5;241;43m=\u001b[39;49m\u001b[38;5;28;43mself\u001b[39;49m\u001b[38;5;241;43m.\u001b[39;49m\u001b[43moptions\u001b[49m\u001b[38;5;241;43m.\u001b[39;49m\u001b[43mget\u001b[49m\u001b[43m(\u001b[49m\u001b[38;5;124;43m\"\u001b[39;49m\u001b[38;5;124;43mmemory_map\u001b[39;49m\u001b[38;5;124;43m\"\u001b[39;49m\u001b[43m,\u001b[49m\u001b[43m \u001b[49m\u001b[38;5;28;43;01mFalse\u001b[39;49;00m\u001b[43m)\u001b[49m\u001b[43m,\u001b[49m\n\u001b[0;32m   1886\u001b[0m \u001b[43m    \u001b[49m\u001b[43mis_text\u001b[49m\u001b[38;5;241;43m=\u001b[39;49m\u001b[43mis_text\u001b[49m\u001b[43m,\u001b[49m\n\u001b[0;32m   1887\u001b[0m \u001b[43m    \u001b[49m\u001b[43merrors\u001b[49m\u001b[38;5;241;43m=\u001b[39;49m\u001b[38;5;28;43mself\u001b[39;49m\u001b[38;5;241;43m.\u001b[39;49m\u001b[43moptions\u001b[49m\u001b[38;5;241;43m.\u001b[39;49m\u001b[43mget\u001b[49m\u001b[43m(\u001b[49m\u001b[38;5;124;43m\"\u001b[39;49m\u001b[38;5;124;43mencoding_errors\u001b[39;49m\u001b[38;5;124;43m\"\u001b[39;49m\u001b[43m,\u001b[49m\u001b[43m \u001b[49m\u001b[38;5;124;43m\"\u001b[39;49m\u001b[38;5;124;43mstrict\u001b[39;49m\u001b[38;5;124;43m\"\u001b[39;49m\u001b[43m)\u001b[49m\u001b[43m,\u001b[49m\n\u001b[0;32m   1888\u001b[0m \u001b[43m    \u001b[49m\u001b[43mstorage_options\u001b[49m\u001b[38;5;241;43m=\u001b[39;49m\u001b[38;5;28;43mself\u001b[39;49m\u001b[38;5;241;43m.\u001b[39;49m\u001b[43moptions\u001b[49m\u001b[38;5;241;43m.\u001b[39;49m\u001b[43mget\u001b[49m\u001b[43m(\u001b[49m\u001b[38;5;124;43m\"\u001b[39;49m\u001b[38;5;124;43mstorage_options\u001b[39;49m\u001b[38;5;124;43m\"\u001b[39;49m\u001b[43m,\u001b[49m\u001b[43m \u001b[49m\u001b[38;5;28;43;01mNone\u001b[39;49;00m\u001b[43m)\u001b[49m\u001b[43m,\u001b[49m\n\u001b[0;32m   1889\u001b[0m \u001b[43m\u001b[49m\u001b[43m)\u001b[49m\n\u001b[0;32m   1890\u001b[0m \u001b[38;5;28;01massert\u001b[39;00m \u001b[38;5;28mself\u001b[39m\u001b[38;5;241m.\u001b[39mhandles \u001b[38;5;129;01mis\u001b[39;00m \u001b[38;5;129;01mnot\u001b[39;00m \u001b[38;5;28;01mNone\u001b[39;00m\n\u001b[0;32m   1891\u001b[0m f \u001b[38;5;241m=\u001b[39m \u001b[38;5;28mself\u001b[39m\u001b[38;5;241m.\u001b[39mhandles\u001b[38;5;241m.\u001b[39mhandle\n",
      "File \u001b[1;32m~\\.virtualenvs\\gdap_cc_project-8yEUqJLh\\Lib\\site-packages\\pandas\\io\\common.py:873\u001b[0m, in \u001b[0;36mget_handle\u001b[1;34m(path_or_buf, mode, encoding, compression, memory_map, is_text, errors, storage_options)\u001b[0m\n\u001b[0;32m    868\u001b[0m \u001b[38;5;28;01melif\u001b[39;00m \u001b[38;5;28misinstance\u001b[39m(handle, \u001b[38;5;28mstr\u001b[39m):\n\u001b[0;32m    869\u001b[0m     \u001b[38;5;66;03m# Check whether the filename is to be opened in binary mode.\u001b[39;00m\n\u001b[0;32m    870\u001b[0m     \u001b[38;5;66;03m# Binary mode does not support 'encoding' and 'newline'.\u001b[39;00m\n\u001b[0;32m    871\u001b[0m     \u001b[38;5;28;01mif\u001b[39;00m ioargs\u001b[38;5;241m.\u001b[39mencoding \u001b[38;5;129;01mand\u001b[39;00m \u001b[38;5;124m\"\u001b[39m\u001b[38;5;124mb\u001b[39m\u001b[38;5;124m\"\u001b[39m \u001b[38;5;129;01mnot\u001b[39;00m \u001b[38;5;129;01min\u001b[39;00m ioargs\u001b[38;5;241m.\u001b[39mmode:\n\u001b[0;32m    872\u001b[0m         \u001b[38;5;66;03m# Encoding\u001b[39;00m\n\u001b[1;32m--> 873\u001b[0m         handle \u001b[38;5;241m=\u001b[39m \u001b[38;5;28;43mopen\u001b[39;49m\u001b[43m(\u001b[49m\n\u001b[0;32m    874\u001b[0m \u001b[43m            \u001b[49m\u001b[43mhandle\u001b[49m\u001b[43m,\u001b[49m\n\u001b[0;32m    875\u001b[0m \u001b[43m            \u001b[49m\u001b[43mioargs\u001b[49m\u001b[38;5;241;43m.\u001b[39;49m\u001b[43mmode\u001b[49m\u001b[43m,\u001b[49m\n\u001b[0;32m    876\u001b[0m \u001b[43m            \u001b[49m\u001b[43mencoding\u001b[49m\u001b[38;5;241;43m=\u001b[39;49m\u001b[43mioargs\u001b[49m\u001b[38;5;241;43m.\u001b[39;49m\u001b[43mencoding\u001b[49m\u001b[43m,\u001b[49m\n\u001b[0;32m    877\u001b[0m \u001b[43m            \u001b[49m\u001b[43merrors\u001b[49m\u001b[38;5;241;43m=\u001b[39;49m\u001b[43merrors\u001b[49m\u001b[43m,\u001b[49m\n\u001b[0;32m    878\u001b[0m \u001b[43m            \u001b[49m\u001b[43mnewline\u001b[49m\u001b[38;5;241;43m=\u001b[39;49m\u001b[38;5;124;43m\"\u001b[39;49m\u001b[38;5;124;43m\"\u001b[39;49m\u001b[43m,\u001b[49m\n\u001b[0;32m    879\u001b[0m \u001b[43m        \u001b[49m\u001b[43m)\u001b[49m\n\u001b[0;32m    880\u001b[0m     \u001b[38;5;28;01melse\u001b[39;00m:\n\u001b[0;32m    881\u001b[0m         \u001b[38;5;66;03m# Binary mode\u001b[39;00m\n\u001b[0;32m    882\u001b[0m         handle \u001b[38;5;241m=\u001b[39m \u001b[38;5;28mopen\u001b[39m(handle, ioargs\u001b[38;5;241m.\u001b[39mmode)\n",
      "\u001b[1;31mFileNotFoundError\u001b[0m: [Errno 2] No such file or directory: 'Datasets/car_price_datatset.csv'"
     ]
    }
   ],
   "source": [
    "## loading dataset\n",
    "data = pd.read_csv(\"Datasets/car_price_datatset.csv\")\n",
    "\n",
    "## create a copy \n",
    "df = data.copy()"
   ]
  },
  {
   "cell_type": "markdown",
   "id": "63fc6403-837a-4e55-947c-fad0e3559169",
   "metadata": {},
   "source": [
    "## Data Preview And Understanding\n",
    "- Loading the dataset"
   ]
  },
  {
   "cell_type": "code",
   "execution_count": null,
   "id": "08b54184-eb80-4710-8ed0-784b1d79c1d8",
   "metadata": {},
   "outputs": [],
   "source": [
    "## view the first rows \n",
    "df.head()"
   ]
  },
  {
   "cell_type": "code",
   "execution_count": null,
   "id": "db0cb8ee-f7d8-4a53-b51f-fbda2baeaa98",
   "metadata": {},
   "outputs": [],
   "source": [
    "## view the last five rows \n",
    "df.tail()"
   ]
  },
  {
   "cell_type": "code",
   "execution_count": null,
   "id": "befb50c0-bc00-43da-810f-6302ebd0e771",
   "metadata": {},
   "outputs": [],
   "source": [
    "## check the number of rows and columns \n",
    "print(f\"{df.shape[0]}   {df.shape[1]}\")"
   ]
  },
  {
   "cell_type": "code",
   "execution_count": null,
   "id": "36767cf6-a5af-4373-a87a-d8fd0f857602",
   "metadata": {},
   "outputs": [],
   "source": [
    "## get a summary description of the data\n",
    "df.info()"
   ]
  },
  {
   "cell_type": "code",
   "execution_count": null,
   "id": "6d449315-e96e-4d59-a081-9ada29880800",
   "metadata": {},
   "outputs": [],
   "source": [
    "## checking for missing values\n",
    "df.isnull().sum()"
   ]
  },
  {
   "cell_type": "code",
   "execution_count": null,
   "id": "aedbcf0d-f491-4b50-8bf8-32feca2dd056",
   "metadata": {},
   "outputs": [],
   "source": [
    "## checking for duplicated values \n",
    "df.duplicated().sum()"
   ]
  },
  {
   "cell_type": "code",
   "execution_count": null,
   "id": "8687075f-5dde-4dcf-a378-a9e76a137f6a",
   "metadata": {},
   "outputs": [],
   "source": [
    "## checking type on columns\n",
    "df.dtypes"
   ]
  },
  {
   "cell_type": "code",
   "execution_count": null,
   "id": "5fbe630b",
   "metadata": {},
   "outputs": [],
   "source": [
    "## lets return the total counts of unique values in each column \n",
    "df.nunique()"
   ]
  },
  {
   "cell_type": "code",
   "execution_count": null,
   "id": "58f6b3d5-fd32-4008-81cf-78dfe68b8982",
   "metadata": {},
   "outputs": [],
   "source": [
    "for each_name in df.columns: \n",
    "    print(each_name)\n",
    "    print(df[each_name].unique())"
   ]
  },
  {
   "cell_type": "markdown",
   "id": "ba98e383-02c9-48cb-b7ff-1f00973e3db2",
   "metadata": {},
   "source": [
    "## Data preprocessing \n",
    "- normalize the columns \n",
    "- normalizing column types\n",
    "    - year, numberofdoors, vhecial_size, v\n",
    "- replacing unsual characters with NaN values\n",
    "- Normalizing column names\n",
    "- Filling of missing "
   ]
  },
  {
   "cell_type": "code",
   "execution_count": null,
   "id": "624a50bd-19d6-4d34-86d1-72771749230e",
   "metadata": {},
   "outputs": [],
   "source": [
    "##change column names to lower case and replace spaces with underscore\n",
    "df.columns = df.columns.str.lower().str.replace(' ', '_')"
   ]
  },
  {
   "cell_type": "code",
   "execution_count": null,
   "id": "640199ce-8a27-400f-8549-338b2fd0b24b",
   "metadata": {},
   "outputs": [],
   "source": [
    "df['year'] = df['year'].astype('category')\n",
    "df['number_of_doors'] = df['number_of_doors'].astype('category')\n",
    "df['vehicle_size'] = df['vehicle_size'].astype('category')\n",
    "df['vehicle_style'] = df['vehicle_style'].astype('category')\n",
    "df['make'] = df['make'].astype('category')\n",
    "df['transmission_type'] = df['transmission_type'].astype('category')\n",
    "df['market_category'] = df['market_category'].astype('category')\n",
    "df['engine_cylinders'] = df['engine_cylinders'].astype('category')\n",
    "df['engine_fuel_type'] = df['engine_fuel_type'].astype('category')\n",
    "df['model'] = df['model'].astype('category')"
   ]
  },
  {
   "cell_type": "code",
   "execution_count": null,
   "id": "e5ae6b70-6896-48d6-9000-653b365ee8c4",
   "metadata": {},
   "outputs": [],
   "source": []
  },
  {
   "cell_type": "code",
   "execution_count": null,
   "id": "00a5f58d",
   "metadata": {},
   "outputs": [],
   "source": [
    "## lets fill in col for engine_cylinders \n",
    "df['engine_cylinders'] = df['engine_cylinders'].fillna(df['engine_cylinders'].value_counts().index[0])\n",
    "## \n",
    "df['number_of_doors'] = df['number_of_doors'].fillna(df['number_of_doors'].value_counts().index[0])\n",
    "#\n",
    "df['market_category'] = df['market_category'].fillna(df['market_category'].value_counts().index[0])\n",
    "#\n",
    "df['engine_fuel_type'] = df['engine_fuel_type'].fillna(df['engine_fuel_type'].value_counts().index[0])"
   ]
  },
  {
   "cell_type": "code",
   "execution_count": null,
   "id": "29738812-06f1-4bff-a3c9-8102e4288596",
   "metadata": {},
   "outputs": [],
   "source": [
    "df['engine_hp'] = df['engine_hp'].fillna(df['engine_hp'].mean())"
   ]
  },
  {
   "cell_type": "markdown",
   "id": "005c219a",
   "metadata": {},
   "source": [
    "## Descriptive Analysis\n",
    "- statistical summary"
   ]
  },
  {
   "cell_type": "code",
   "execution_count": null,
   "id": "dd08ddaa-a3b5-4a24-b9d6-26d60dffa7d8",
   "metadata": {},
   "outputs": [],
   "source": [
    "df.describe().round()"
   ]
  },
  {
   "cell_type": "code",
   "execution_count": null,
   "id": "5ad41600",
   "metadata": {},
   "outputs": [],
   "source": [
    "numerical_cols = df.select_dtypes(include=['int', 'float'])\n",
    "\n",
    "corr_matrix = numerical_cols.corr()\n",
    "\n",
    "corr_matrix['msrp']"
   ]
  },
  {
   "cell_type": "markdown",
   "id": "4902bdda-e2ac-4fe5-b6be-18a850eadaca",
   "metadata": {},
   "source": [
    "## Exploratory Data Analysis\n",
    "- Target variable analysis\n",
    "- Plot a coorelation againts the target variable\n",
    "- Outlier analysis"
   ]
  },
  {
   "cell_type": "code",
   "execution_count": null,
   "id": "a809d340-30ec-4e9b-a581-0a60f417d1ca",
   "metadata": {},
   "outputs": [],
   "source": [
    "plt.figure(figsize=(12, 6))\n",
    "\n",
    "plt.title('Frequency Distribution of Car Price')\n",
    "plt.xlabel('Price')\n",
    "plt.ylabel('Count') \n",
    "\n",
    "sns.histplot(df['msrp'][df['msrp'] < 100000], color='gold') \n",
    "\n",
    "plt.show()\n"
   ]
  },
  {
   "cell_type": "code",
   "execution_count": null,
   "id": "1053bf76-7e6b-4d4c-a74e-0f4ef00d2574",
   "metadata": {},
   "outputs": [],
   "source": [
    "## log transformation \n",
    "log_price = np.log1p(df['msrp'])"
   ]
  },
  {
   "cell_type": "code",
   "execution_count": null,
   "id": "7d61f029-de9d-4796-9c89-fc95cd5da908",
   "metadata": {},
   "outputs": [],
   "source": [
    "\n",
    "plt.figure(figsize=(12, 6))\n",
    "\n",
    "plt.title('Frequency Distribution of Car Price')\n",
    "plt.xlabel('Log Price')\n",
    "plt.ylabel('Count') \n",
    "\n",
    "sns.histplot(log_price, color='gold') \n",
    "\n",
    "plt.show()"
   ]
  },
  {
   "cell_type": "code",
   "execution_count": null,
   "id": "b12a8a13-fc01-4e77-be46-4fc2d6c53c70",
   "metadata": {},
   "outputs": [],
   "source": [
    "## performing a coorelation on numerical column\n",
    "## select numerical ..\n"
   ]
  },
  {
   "cell_type": "markdown",
   "id": "fd93b364-16f7-4237-8718-cf947f161c33",
   "metadata": {},
   "source": [
    "## Building a validation framework \n",
    "- Training dataset 60%\n",
    "- Validation dataset 20%\n",
    "- Testing dataset 20%"
   ]
  },
  {
   "cell_type": "code",
   "execution_count": null,
   "id": "97cfad66-6527-42a5-8aeb-27cf02d386f1",
   "metadata": {},
   "outputs": [],
   "source": [
    "df_train_full, df_test = train_test_split(df, test_size=0.2 , random_state=10)\n",
    "df_train, df_valid = train_test_split(df_train_full, test_size=0.25, random_state=10) \n",
    "\n",
    "print(f'Size of Training Dataset {len(df_train)}')\n",
    "print(f'Size of Validation Dataset {len(df_valid)}')\n",
    "print(f'Size of Testing Dataset {len(df_test)}')"
   ]
  },
  {
   "cell_type": "code",
   "execution_count": null,
   "id": "0b29a0d3-4464-48b6-979a-05bce5871a67",
   "metadata": {},
   "outputs": [],
   "source": [
    "df_train.head()"
   ]
  },
  {
   "cell_type": "markdown",
   "id": "d6812533-d9d8-433f-bbbf-d3ed0bd2b393",
   "metadata": {},
   "source": [
    "## Data Preprocessing 2 "
   ]
  },
  {
   "cell_type": "code",
   "execution_count": null,
   "id": "751dc812-7257-4ae3-ba21-af02677d452e",
   "metadata": {},
   "outputs": [],
   "source": [
    "## \n",
    "y_train = np.log1p(df_train['msrp']).values\n",
    "y_valid = np.log1p(df_valid['msrp']).values\n",
    "y_test = np.log1p(df_test['msrp']).values "
   ]
  },
  {
   "cell_type": "code",
   "execution_count": null,
   "id": "3f5d80cc-63ff-42eb-88cc-7efe80d8b204",
   "metadata": {},
   "outputs": [],
   "source": [
    "y_valid"
   ]
  },
  {
   "cell_type": "code",
   "execution_count": null,
   "id": "17c1efad-27e4-4d74-801a-42f7f566cde1",
   "metadata": {},
   "outputs": [],
   "source": [
    "del df_train['msrp']\n",
    "del df_valid['msrp']\n",
    "del df_test['msrp'] "
   ]
  },
  {
   "cell_type": "code",
   "execution_count": null,
   "id": "3a6a3046-1c67-4560-80a6-b2be2235d700",
   "metadata": {},
   "outputs": [],
   "source": [
    "df_train.head"
   ]
  },
  {
   "cell_type": "code",
   "execution_count": null,
   "id": "0625847c-e8b6-42f7-83d2-86ae057cb97a",
   "metadata": {},
   "outputs": [],
   "source": [
    "## select the cols with int and float \n",
    "df_train_bl = df_train.select_dtypes(include=['int', 'float'])\n",
    "df_valid_bl = df_valid.select_dtypes(include=['int', 'float']) \n",
    "\n",
    "## \n",
    "X_train_bl = df_train_bl.values \n",
    "X_valid_bl = df_valid_bl.values "
   ]
  },
  {
   "cell_type": "markdown",
   "id": "ae776977-8122-4db1-ac7e-0b252a40aac4",
   "metadata": {},
   "source": [
    "## Training a Baseline Linear Regression "
   ]
  },
  {
   "cell_type": "code",
   "execution_count": null,
   "id": "c0829317-2470-4bcf-8339-c4b2f9041762",
   "metadata": {},
   "outputs": [],
   "source": [
    "## instance of the model \n",
    "lr_bl_model = LinearRegression() \n",
    "\n",
    "## traing the model \n",
    "lr_bl_model.fit(X_train_bl, y_train) "
   ]
  },
  {
   "cell_type": "code",
   "execution_count": null,
   "id": "4c247f8e-e250-4439-a699-b4a93a034038",
   "metadata": {},
   "outputs": [],
   "source": []
  },
  {
   "cell_type": "markdown",
   "id": "8481218c-f27c-46dc-a481-7ab1dd62ad8d",
   "metadata": {},
   "source": [
    "## Model Evaluation "
   ]
  },
  {
   "cell_type": "code",
   "execution_count": null,
   "id": "dfa53abe-323c-49af-8929-4e70934807ce",
   "metadata": {},
   "outputs": [],
   "source": [
    "## generate validation predictions \n",
    "y_valid_pred = lr_bl_model.predict(X_valid_bl) "
   ]
  },
  {
   "cell_type": "code",
   "execution_count": null,
   "id": "44f949f8-83b7-4018-95fd-b00dab3749d6",
   "metadata": {},
   "outputs": [],
   "source": [
    "## \n",
    "rmse_bl = root_mean_squared_error(y_valid, y_valid_pred) \n",
    "\n",
    "print(f'Baseline Validation Metic {round(rmse_bl, 2) * 100} %')"
   ]
  },
  {
   "cell_type": "code",
   "execution_count": null,
   "id": "95373140-1511-4f7e-8fd4-73251435392c",
   "metadata": {},
   "outputs": [],
   "source": [
    "df_train.columns"
   ]
  },
  {
   "cell_type": "markdown",
   "id": "3d038653-e9ed-475a-b202-b461716c9dd3",
   "metadata": {},
   "source": [
    "## Decision Tree"
   ]
  },
  {
   "cell_type": "code",
   "execution_count": null,
   "id": "093fb4eb-7b42-4107-aaf6-34b78184c28a",
   "metadata": {},
   "outputs": [],
   "source": [
    "## create instance\n",
    "dt_model_bl = DecisionTreeRegressor(random_state=11)\n",
    "\n",
    "dt_model_bl.fit(X_train_bl, y_train)"
   ]
  },
  {
   "cell_type": "markdown",
   "id": "be422a03-3a49-4dcc-89e6-70405dc74f65",
   "metadata": {},
   "source": [
    "## Feature Engineering \n",
    "- select two categorical cols: year, transmission_type "
   ]
  },
  {
   "cell_type": "code",
   "execution_count": null,
   "id": "66c1646c-d43c-431f-ab60-acb18e791c9b",
   "metadata": {},
   "outputs": [],
   "source": [
    "## create a newlist of the col names \n",
    "cat_fe_1 = ['year', 'transmission_type']\n",
    "\n",
    "numerical_cols = ['engine_hp', 'city_mpg', 'popularity', 'highway_mpg']\n",
    "\n",
    "\n",
    "df_train_fe_1 = df_train[numerical_cols + cat_fe_1]\n",
    "\n",
    "df_valid_fe_1 = df_valid[numerical_cols + cat_fe_1]\n"
   ]
  },
  {
   "cell_type": "code",
   "execution_count": null,
   "id": "55402303-ae65-4aa8-8a48-64ba70762a5e",
   "metadata": {},
   "outputs": [],
   "source": [
    "## convert our dataframe to a dictionary \n",
    "dict_train_fe_1 = df_train_fe_1.to_dict(orient='records')\n",
    "dict_valid_fe_1 = df_valid_fe_1.to_dict(orient='records')"
   ]
  },
  {
   "cell_type": "code",
   "execution_count": null,
   "id": "c5d67fc0-f386-4cf3-9376-c37cf9e5d6d0",
   "metadata": {},
   "outputs": [],
   "source": [
    "## create an instance \n",
    "dv = DictVectorizer(sparse=False)\n",
    "\n",
    "dv.fit(dict_train_fe_1)"
   ]
  },
  {
   "cell_type": "code",
   "execution_count": null,
   "id": "f0d731c4-1ec8-47d6-869f-147ba7223f78",
   "metadata": {},
   "outputs": [],
   "source": [
    "X_train_fe_1 = dv.transform(dict_train_fe_1)\n",
    "X_valid_fe_1 = dv.transform(dict_valid_fe_1)"
   ]
  },
  {
   "cell_type": "markdown",
   "id": "cedab43c-9e9f-4892-a41d-183968c35303",
   "metadata": {},
   "source": [
    "## Train Fe_1 Model "
   ]
  },
  {
   "cell_type": "code",
   "execution_count": null,
   "id": "0ae464a9-201e-4ac1-8246-e45319c310a3",
   "metadata": {},
   "outputs": [],
   "source": [
    "lr_fe_1_model = LinearRegression() \n",
    "\n",
    "lr_fe_1_model.fit(X_train_fe_1, y_train)"
   ]
  },
  {
   "cell_type": "code",
   "execution_count": null,
   "id": "e06a419d-860e-46d2-9c4e-7f2042f997dd",
   "metadata": {},
   "outputs": [],
   "source": [
    "y_valid_pred_fe_1 = lr_fe_1_model.predict(X_valid_fe_1)"
   ]
  },
  {
   "cell_type": "code",
   "execution_count": null,
   "id": "a9c1f392-e039-46ce-b9e8-6398e05bef27",
   "metadata": {},
   "outputs": [],
   "source": [
    "rmse_fe_1 = root_mean_squared_error(y_valid, y_valid_pred_fe_1)\n",
    "\n",
    "print(f'Log Reg Validation Metric for Fe_1:  : {round(rmse_fe_1, 2) * 100} %')"
   ]
  },
  {
   "cell_type": "markdown",
   "id": "918019ee-2bcb-4081-aa77-a5e5dd914a44",
   "metadata": {},
   "source": [
    "## Save The Model "
   ]
  },
  {
   "cell_type": "markdown",
   "id": "9bc28429-0c09-4b95-a165-a2e4bc6660e3",
   "metadata": {},
   "source": [
    "## Load The Model "
   ]
  },
  {
   "cell_type": "markdown",
   "id": "7d0a0571-aa33-4f6f-a6f3-6a9cc15df093",
   "metadata": {},
   "source": [
    "## Make Predictions "
   ]
  },
  {
   "cell_type": "code",
   "execution_count": null,
   "id": "2ee45a6c-dc92-4185-b3a1-414f3fb9893b",
   "metadata": {},
   "outputs": [],
   "source": []
  }
 ],
 "metadata": {
  "kernelspec": {
   "display_name": "Python 3 (ipykernel)",
   "language": "python",
   "name": "python3"
  },
  "language_info": {
   "codemirror_mode": {
    "name": "ipython",
    "version": 3
   },
   "file_extension": ".py",
   "mimetype": "text/x-python",
   "name": "python",
   "nbconvert_exporter": "python",
   "pygments_lexer": "ipython3",
   "version": "3.13.0"
  }
 },
 "nbformat": 4,
 "nbformat_minor": 5
}
